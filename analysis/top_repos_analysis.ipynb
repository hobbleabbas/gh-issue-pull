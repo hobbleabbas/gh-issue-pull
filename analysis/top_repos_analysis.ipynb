{
 "cells": [
  {
   "cell_type": "code",
   "execution_count": 4,
   "id": "50e9ec2b-3704-4803-a665-737059477d6d",
   "metadata": {
    "editable": true,
    "slideshow": {
     "slide_type": ""
    },
    "tags": []
   },
   "outputs": [
    {
     "name": "stdout",
     "output_type": "stream",
     "text": [
      "\u001b[1;36mdata\u001b[0m\n",
      "└── top_1000_pypi.jsonl\n",
      "\n",
      "1 directory, 1 file\n"
     ]
    }
   ],
   "source": [
    "!tree data"
   ]
  },
  {
   "cell_type": "code",
   "execution_count": 48,
   "id": "3004f316-c896-425d-ac05-531c38fcf585",
   "metadata": {
    "editable": true,
    "slideshow": {
     "slide_type": ""
    },
    "tags": []
   },
   "outputs": [
    {
     "data": {
      "text/plain": [
       "dict_keys(['rank', 'name', 'url', 'github', 'stars', 'pulls'])"
      ]
     },
     "execution_count": 48,
     "metadata": {},
     "output_type": "execute_result"
    }
   ],
   "source": [
    "import json\n",
    "\n",
    "top_pypi_packages = []\n",
    "with open(\"data/top_1000_pypi.jsonl\", \"r\") as f:\n",
    "    for line in f:\n",
    "        top_pypi_packages.append(json.loads(line))\n",
    "top_pypi_packages[0].keys()"
   ]
  },
  {
   "cell_type": "code",
   "execution_count": 43,
   "id": "5954c807-61f7-4d81-a105-e67df536cc3b",
   "metadata": {
    "editable": true,
    "slideshow": {
     "slide_type": ""
    },
    "tags": []
   },
   "outputs": [],
   "source": [
    "import pandas as pd\n",
    "\n",
    "top_pypi_packages_df = pd.DataFrame(top_prs)"
   ]
  },
  {
   "cell_type": "code",
   "execution_count": 66,
   "id": "00fcf292-64b5-41b7-bd25-edcb12b3148b",
   "metadata": {
    "editable": true,
    "slideshow": {
     "slide_type": ""
    },
    "tags": []
   },
   "outputs": [
    {
     "name": "stdout",
     "output_type": "stream",
     "text": [
      "                                            github   pulls\n",
      "0            http://github.com/ActiveState/appdirs   189.0\n",
      "1             http://github.com/ahupp/python-magic   335.0\n",
      "2           http://github.com/alexmojaki/pure_eval    15.0\n",
      "3                 http://github.com/celery/py-amqp   434.0\n",
      "4            http://github.com/fonttools/fonttools  3662.0\n",
      "..                                             ...     ...\n",
      "512      https://github.com/youknowone/methodtools    31.0\n",
      "513         https://github.com/youknowone/wirerope    26.0\n",
      "514  https://github.com/youtype/mypy_boto3_builder   317.0\n",
      "515                 https://github.com/ypcrts/fqdn    46.0\n",
      "516                https://github.com/zeromq/pyzmq  2039.0\n",
      "\n",
      "[517 rows x 2 columns]\n",
      "Total number of pull requests: 1117915.0\n"
     ]
    }
   ],
   "source": [
    "top_githubs_df = top_prs_df.dropna(subset=[\"pulls\"]).groupby(\"github\", as_index=False)[\"pulls\"].max()\n",
    "print(top_githubs_df)\n",
    "print(f\"Total number of pull requests: {top_github_repos_df['pulls'].sum()}\")"
   ]
  },
  {
   "cell_type": "code",
   "execution_count": 80,
   "id": "e6d6bae2-7ab6-47f4-a896-879013114eea",
   "metadata": {
    "editable": true,
    "slideshow": {
     "slide_type": ""
    },
    "tags": []
   },
   "outputs": [
    {
     "data": {
      "image/png": "[encoded data removed]",
      "text/plain": [
       "<Figure size 640x480 with 1 Axes>"
      ]
     },
     "metadata": {},
     "output_type": "display_data"
    }
   ],
   "source": [
    "import matplotlib.pyplot as plt\n",
    "import numpy as np\n",
    "\n",
    "# Plot histogram\n",
    "filtered_df = top_githubs_df[top_githubs_df[\"pulls\"] > 30]\n",
    "\n",
    "plt.hist(filtered_df[\"pulls\"], bins='auto', edgecolor='black')\n",
    "plt.title('PR distribution of top 1000 Python repos')\n",
    "plt.xlabel('# PRs')\n",
    "plt.ylabel('# Repos')\n",
    "plt.show()"
   ]
  },
  {
   "cell_type": "code",
   "execution_count": null,
   "id": "efdbc9dd-f073-43eb-9bb4-d32562f27a31",
   "metadata": {
    "editable": true,
    "slideshow": {
     "slide_type": ""
    },
    "tags": []
   },
   "outputs": [],
   "source": []
  }
 ],
 "metadata": {
  "kernelspec": {
   "display_name": "Python 3 (ipykernel)",
   "language": "python",
   "name": "python3"
  },
  "language_info": {
   "codemirror_mode": {
    "name": "ipython",
    "version": 3
   },
   "file_extension": ".py",
   "mimetype": "text/x-python",
   "name": "python",
   "nbconvert_exporter": "python",
   "pygments_lexer": "ipython3",
   "version": "3.11.10"
  }
 },
 "nbformat": 4,
 "nbformat_minor": 5
}
